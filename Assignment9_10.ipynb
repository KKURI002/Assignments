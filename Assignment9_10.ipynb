{
  "nbformat": 4,
  "nbformat_minor": 0,
  "metadata": {
    "colab": {
      "provenance": [],
      "authorship_tag": "ABX9TyPX2ET5WzbdLjVdtuLVFMYW",
      "include_colab_link": true
    },
    "kernelspec": {
      "name": "python3",
      "display_name": "Python 3"
    },
    "language_info": {
      "name": "python"
    }
  },
  "cells": [
    {
      "cell_type": "markdown",
      "metadata": {
        "id": "view-in-github",
        "colab_type": "text"
      },
      "source": [
        "<a href=\"https://colab.research.google.com/github/KKURI002/Assignments/blob/main/Assignment9_10.ipynb\" target=\"_parent\"><img src=\"https://colab.research.google.com/assets/colab-badge.svg\" alt=\"Open In Colab\"/></a>"
      ]
    },
    {
      "cell_type": "markdown",
      "source": [
        "Text\n",
        "*   takes a name and word as input\n",
        "*   returns a sentence with the name and word"
      ],
      "metadata": {
        "id": "hzMPUttxBleh"
      }
    },
    {
      "cell_type": "code",
      "execution_count": null,
      "metadata": {
        "id": "ZkB0syLSBaGe"
      },
      "outputs": [],
      "source": [
        "#1 text as input\n",
        "\n",
        "def text(name, word):\n",
        "    return f'{name} is very {word} today'"
      ]
    },
    {
      "cell_type": "code",
      "source": [
        "print(text('lily', 'tired'))\n",
        "print(text('nolan', 'angry'))\n",
        "print(text('abby', 'high'))"
      ],
      "metadata": {
        "id": "hLpQG_E9UCYm"
      },
      "execution_count": null,
      "outputs": []
    },
    {
      "cell_type": "markdown",
      "source": [
        "Variable\n",
        "*   takes three numbers\n",
        "*   produces the sum of the numbers\n",
        "*   can produce sums with only two of the three numbers\n",
        "*   returns the sum\n",
        "\n",
        "\n",
        "\n"
      ],
      "metadata": {
        "id": "ZJq_dZd3T9wt"
      }
    },
    {
      "cell_type": "code",
      "source": [
        "#2 variable number of arguments\n",
        "\n",
        "def sum(a = '', b = '', c = ''):\n",
        "    if a:\n",
        "        if b:\n",
        "            add = a + b\n",
        "            return add\n",
        "        elif c:\n",
        "           add = a + c\n",
        "           return add\n",
        "    if b:\n",
        "        if c:\n",
        "            add = b + c\n",
        "            return add\n",
        "    else:\n",
        "        add = a + b + c\n",
        "        return add"
      ],
      "metadata": {
        "id": "lFt2PGIABfGm"
      },
      "execution_count": null,
      "outputs": []
    },
    {
      "cell_type": "code",
      "source": [
        "print(sum(a = 1, b = 2, c = 3))\n",
        "print(sum(a = 2, b = 3))\n",
        "print(sum(a = 3, c = 4))\n",
        "print(sum(b = 2, c = 4))"
      ],
      "metadata": {
        "id": "wdAUyDL4UFI6"
      },
      "execution_count": null,
      "outputs": []
    },
    {
      "cell_type": "markdown",
      "source": [
        "Multiple\n",
        "*   takes two words as input\n",
        "*   returns two words"
      ],
      "metadata": {
        "id": "v04IqIBaUGF4"
      }
    },
    {
      "cell_type": "code",
      "source": [
        "#3 return multiple items\n",
        "\n",
        "def sent(w1, w2):\n",
        "    return f'{w1} and {w2}'"
      ],
      "metadata": {
        "id": "3yv0PpxnBfyy"
      },
      "execution_count": null,
      "outputs": []
    },
    {
      "cell_type": "code",
      "source": [
        "print(sent('hello', 'goodbye'))\n",
        "print(sent('morning', 'night'))\n",
        "print(sent('hot', 'cold'))"
      ],
      "metadata": {
        "id": "MbvoliVoUIhI"
      },
      "execution_count": null,
      "outputs": []
    },
    {
      "cell_type": "markdown",
      "source": [
        "Sorting\n",
        "*   creates a list and adds three words\n",
        "*   sorts list alphabetically"
      ],
      "metadata": {
        "id": "ICzoKvPkUI1R"
      }
    },
    {
      "cell_type": "code",
      "source": [
        "#4 use sorting\n",
        "\n",
        "def sort_func():\n",
        "    s_list = []\n",
        "    s_list.append('alpha')\n",
        "    s_list.append('omega')\n",
        "    s_list.append('beta')\n",
        "    s_list.sort()\n",
        "    return s_list\n"
      ],
      "metadata": {
        "id": "j7h-r9xmBgeq"
      },
      "execution_count": null,
      "outputs": []
    },
    {
      "cell_type": "code",
      "source": [
        "print(sort_func())"
      ],
      "metadata": {
        "id": "yme7kUUxULJC"
      },
      "execution_count": null,
      "outputs": []
    },
    {
      "cell_type": "markdown",
      "source": [
        "Dictionary\n",
        "*   creates a dictionary\n",
        "*   returns a random value from the dictionary\n",
        "*   returns the key, value pair from the dictionary"
      ],
      "metadata": {
        "id": "8y4VDybTULyC"
      }
    },
    {
      "cell_type": "code",
      "source": [
        "#5 use a dictionary\n",
        "\n",
        "import random\n",
        "\n",
        "def dictionary():\n",
        "    words = {\n",
        "        'cat': 'Missy',\n",
        "        'dog': 'Trixie',\n",
        "        'fruit': 'Strawberry',\n",
        "        'vegtable': 'Pepper'\n",
        "    }\n",
        "\n",
        "    rand = random.randint(0,3)\n",
        "\n",
        "    keys = []\n",
        "    for x in words:\n",
        "        keys.append(x)\n",
        "    key = keys[rand]\n",
        "\n",
        "    pairs = []\n",
        "    for x in words.items():\n",
        "        pairs.append(x)\n",
        "    pair = pairs[rand]\n",
        "    return f'{words[key]}\\n{pair}'"
      ],
      "metadata": {
        "id": "LCTpFAxmBhDh"
      },
      "execution_count": null,
      "outputs": []
    },
    {
      "cell_type": "code",
      "source": [
        "print(dictionary())\n",
        "print(dictionary())\n",
        "print(dictionary())"
      ],
      "metadata": {
        "id": "l-LG6mPeUOx4"
      },
      "execution_count": null,
      "outputs": []
    },
    {
      "cell_type": "markdown",
      "source": [
        "Puzzle"
      ],
      "metadata": {
        "id": "9XF0uvPVUPK-"
      }
    },
    {
      "cell_type": "code",
      "source": [
        "#6 solve a puzzle\n",
        "\n",
        "def logic(a, b, c, d):\n",
        "    return (a and b) or (c and d) or (a and c) or (b and d)\n",
        "\n",
        "def truthTable():\n",
        "    print('{a}\\t{b}\\t{c}\\t{d}\\t{value}')\n",
        "    for a in [False, True]:\n",
        "        for b in [False, True]:\n",
        "            for c in [False, True]:\n",
        "                for d in [False, True]:\n",
        "                    value = logic(a, b, c, d)\n",
        "                    #print(a, b, c, d, value)\n",
        "                    print(f'{a}\\t{b}\\t{c}\\t{d}\\t{value}')"
      ],
      "metadata": {
        "id": "JBWEHXbzBhqm"
      },
      "execution_count": null,
      "outputs": []
    },
    {
      "cell_type": "code",
      "source": [
        "truthTable()"
      ],
      "metadata": {
        "id": "xsU-OEgVUSCA"
      },
      "execution_count": null,
      "outputs": []
    },
    {
      "cell_type": "markdown",
      "source": [
        "Math\n",
        "*   takes two numbers as input\n",
        "*   returns the summation"
      ],
      "metadata": {
        "id": "VEY-r4pXUSyY"
      }
    },
    {
      "cell_type": "code",
      "source": [
        "#7 tricky math computation\n",
        "\n",
        "def summation():\n",
        "    sum = 0\n",
        "    num = int(input('enter a number '))\n",
        "    max = int(input('enter a number '))\n",
        "    times = 0\n",
        "    while times < max:\n",
        "        sum += (pow(num,2)/(num-1))\n",
        "        times += 1\n",
        "        num += 1\n",
        "    return sum"
      ],
      "metadata": {
        "id": "WY3guYvWBiS5"
      },
      "execution_count": null,
      "outputs": []
    },
    {
      "cell_type": "code",
      "source": [
        "print(summation())"
      ],
      "metadata": {
        "id": "yuiAilatUWVs"
      },
      "execution_count": null,
      "outputs": []
    },
    {
      "cell_type": "markdown",
      "source": [
        "# One: Factorial\n",
        "\n",
        "\n",
        "*   takes a number as input (not negative)\n",
        "*   calculates the factorial of the number\n",
        "*   returns the product of the factorial"
      ],
      "metadata": {
        "id": "wR_ml-6IUWwA"
      }
    },
    {
      "cell_type": "code",
      "source": [
        "#8\n",
        "import math\n",
        "\n",
        "def factorial():\n",
        "    nm = int(input('enter a positive number '))\n",
        "    fac = math.factorial(nm)\n",
        "    return fac\n"
      ],
      "metadata": {
        "id": "sbAlbvDcBi67"
      },
      "execution_count": null,
      "outputs": []
    },
    {
      "cell_type": "code",
      "source": [
        "print(factorial())\n",
        "print(factorial())"
      ],
      "metadata": {
        "id": "OpqX1UmlUYOF"
      },
      "execution_count": null,
      "outputs": []
    },
    {
      "cell_type": "markdown",
      "source": [
        "Two: Number of Upper and Lower case letters\n",
        "*   takes a string as input\n",
        "*   returns the number of Uppercase and the number of Lowercase letters"
      ],
      "metadata": {
        "id": "b_nKACUdUYsk"
      }
    },
    {
      "cell_type": "code",
      "source": [
        "#9\n",
        "\n",
        "def UppLow():\n",
        "    sen = input('enter a sentence ')\n",
        "    space = 0\n",
        "    upper = 0\n",
        "    lower = 0\n",
        "    for x in sen:\n",
        "        if x == \" \":\n",
        "            space += 1\n",
        "        elif x == x.upper():\n",
        "            upper += 1\n",
        "        elif x == x.lower():\n",
        "            lower += 1\n",
        "\n",
        "    return f'{sen}\\n\\tspace: {space}\\n\\tupper: {upper}\\n\\tlower: {lower}'"
      ],
      "metadata": {
        "id": "6to0T7jnBjhu"
      },
      "execution_count": null,
      "outputs": []
    },
    {
      "cell_type": "code",
      "source": [
        "print(UppLow())\n",
        "print(UppLow())"
      ],
      "metadata": {
        "id": "b9IBR8h-UZ5F"
      },
      "execution_count": null,
      "outputs": []
    },
    {
      "cell_type": "markdown",
      "source": [
        "Three: Chain\n",
        "\n",
        "\n",
        "*   takes a string as input\n",
        "*   call different functions\n",
        "*   each called function changes how the string is printed\n",
        "*   as inputted, bold, italicized, underlined"
      ],
      "metadata": {
        "id": "fiB7N_r7UaNp"
      }
    },
    {
      "cell_type": "code",
      "source": [
        "#10\n",
        "\n",
        "sen = ' '\n",
        "def chain(sent):\n",
        "    global sen\n",
        "    sen = sent\n",
        "    bo = bold\n",
        "    it = ital\n",
        "    un = under\n",
        "    return f'{sen}\\n{bo()}\\n{it()}\\n{un()}'\n",
        "\n",
        "\n",
        "def bold():\n",
        "    return f'\\x1B[1m{sen}\\x1B[0m'\n",
        "\n",
        "def ital():\n",
        "    return f'\\x1B[3m{sen}\\x1B[0m'\n",
        "\n",
        "def under():\n",
        "    return f'\\x1B[4m{sen}\\x1B[0m'\n"
      ],
      "metadata": {
        "id": "fDXA9uMCBkGd"
      },
      "execution_count": 23,
      "outputs": []
    },
    {
      "cell_type": "code",
      "source": [
        "print(chain('hi lily'))\n",
        "print(chain(\"fuck it's finals!\"))\n",
        "print(chain('I love Dune'))"
      ],
      "metadata": {
        "id": "jwX-04oNUcfW"
      },
      "execution_count": null,
      "outputs": []
    }
  ]
}