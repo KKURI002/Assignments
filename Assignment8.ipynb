{
  "nbformat": 4,
  "nbformat_minor": 0,
  "metadata": {
    "colab": {
      "provenance": [],
      "authorship_tag": "ABX9TyOc8GFVUJ1JjeGIkpGCbO1q",
      "include_colab_link": true
    },
    "kernelspec": {
      "name": "python3",
      "display_name": "Python 3"
    },
    "language_info": {
      "name": "python"
    }
  },
  "cells": [
    {
      "cell_type": "markdown",
      "metadata": {
        "id": "view-in-github",
        "colab_type": "text"
      },
      "source": [
        "<a href=\"https://colab.research.google.com/github/KKURI002/Assignments/blob/main/Assignment8.ipynb\" target=\"_parent\"><img src=\"https://colab.research.google.com/assets/colab-badge.svg\" alt=\"Open In Colab\"/></a>"
      ]
    },
    {
      "cell_type": "code",
      "execution_count": null,
      "metadata": {
        "id": "UsSCTZhLAEDJ"
      },
      "outputs": [],
      "source": [
        "#8-2\n",
        "\n",
        "def favorite_book(title):\n",
        "    print(f'One of my favorite books is {title.title()}')"
      ]
    },
    {
      "cell_type": "code",
      "source": [
        "favorite_book('dracula')"
      ],
      "metadata": {
        "colab": {
          "base_uri": "https://localhost:8080/"
        },
        "id": "samQU-ZR0IpP",
        "outputId": "0d03c6b3-9854-40da-a48d-5598c76c6665"
      },
      "execution_count": null,
      "outputs": [
        {
          "output_type": "stream",
          "name": "stdout",
          "text": [
            "One of my favorite books is Dracula\n"
          ]
        }
      ]
    },
    {
      "cell_type": "code",
      "source": [
        "#8-3\n",
        "\n",
        "def make_shirt(size, message):\n",
        "    print(f'size: {size.title()}\\nmessage: {message.title()}\\n')"
      ],
      "metadata": {
        "id": "A3hXBxf8Al0k",
        "colab": {
          "base_uri": "https://localhost:8080/"
        },
        "outputId": "857376b1-4202-4149-e283-e1daf072b589"
      },
      "execution_count": null,
      "outputs": [
        {
          "output_type": "stream",
          "name": "stdout",
          "text": [
            "size: Small\n",
            "message: Hand Wash\n",
            "\n",
            "size: Large\n",
            "message: Machine Wash\n",
            "\n"
          ]
        }
      ]
    },
    {
      "cell_type": "code",
      "source": [
        "make_shirt('small', 'Mothman')\n",
        "make_shirt(size = 'large', message = 'Cuthulu')"
      ],
      "metadata": {
        "colab": {
          "base_uri": "https://localhost:8080/"
        },
        "id": "1X0e5oFO4rYc",
        "outputId": "00038857-6060-4037-b081-98a416630bb6"
      },
      "execution_count": null,
      "outputs": [
        {
          "output_type": "stream",
          "name": "stdout",
          "text": [
            "size: Small\n",
            "message: Mothman\n",
            "\n",
            "size: Large\n",
            "message: Cuthulu\n",
            "\n"
          ]
        }
      ]
    },
    {
      "cell_type": "code",
      "source": [
        "#8-4\n",
        "\n",
        "def make_shirt(size = 'large', message = 'I Love Python'):\n",
        "    print(f'size: {size.title()}\\nmessage: {message.title()}\\n')"
      ],
      "metadata": {
        "id": "qAHIBc0qAnT7"
      },
      "execution_count": null,
      "outputs": []
    },
    {
      "cell_type": "code",
      "source": [
        "make_shirt()\n",
        "make_shirt(size = 'medium')\n",
        "make_shirt(message = 'I Love Coffee')\n",
        "make_shirt(size = 'small', message = 'Nessy')"
      ],
      "metadata": {
        "colab": {
          "base_uri": "https://localhost:8080/"
        },
        "id": "XTzNF38N6TW7",
        "outputId": "bb669f1c-eef0-4143-f34d-31bda5896ded"
      },
      "execution_count": null,
      "outputs": [
        {
          "output_type": "stream",
          "name": "stdout",
          "text": [
            "size: Large\n",
            "message: I Love Python\n",
            "\n",
            "size: Medium\n",
            "message: I Love Python\n",
            "\n",
            "size: Large\n",
            "message: I Love Coffee\n",
            "\n",
            "size: Small\n",
            "message: Nessy\n",
            "\n"
          ]
        }
      ]
    },
    {
      "cell_type": "code",
      "source": [
        "#func8(a,b,c)\n",
        "\n",
        "#func = []\n",
        "def func8(a, b, c = 42):\n",
        "    sum = a + b + c\n",
        "    print(sum)\n",
        "    product = a * b * c\n",
        "    print(product)\n",
        "    func = []\n",
        "    func.append(a)\n",
        "    func.append(b)\n",
        "    func.append(c)\n",
        "    func.sort()\n",
        "    print(func)"
      ],
      "metadata": {
        "id": "2XtH2WxdAokH"
      },
      "execution_count": null,
      "outputs": []
    },
    {
      "cell_type": "code",
      "source": [
        "func8(11, 21)\n",
        "func8(10, 20, 30)"
      ],
      "metadata": {
        "colab": {
          "base_uri": "https://localhost:8080/"
        },
        "id": "uwnhUHxWviF0",
        "outputId": "5f50836a-e8a5-4598-fbab-f1e272b8d7f3"
      },
      "execution_count": null,
      "outputs": [
        {
          "output_type": "stream",
          "name": "stdout",
          "text": [
            "74\n",
            "9702\n",
            "[11, 21, 42]\n",
            "60\n",
            "6000\n",
            "[10, 20, 30]\n"
          ]
        }
      ]
    }
  ]
}